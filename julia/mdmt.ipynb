{
 "cells": [
  {
   "cell_type": "markdown",
   "metadata": {},
   "source": [
    "# Maior distância mínima total"
   ]
  },
  {
   "cell_type": "markdown",
   "metadata": {},
   "source": [
    "## Ler uma instância exemplar"
   ]
  },
  {
   "cell_type": "code",
   "execution_count": 2,
   "metadata": {
    "scrolled": true
   },
   "outputs": [
    {
     "name": "stdout",
     "output_type": "stream",
     "text": [
      "Size 450x450, select 112.\n"
     ]
    }
   ],
   "source": [
    "(M,L,l,d)=open(\"data/mdmt39.112.A.ins\") do io\n",
    "    (M,L,l)=map(split(readline(io))) do x parse(Int,x) end\n",
    "    (M,L,l,reshape(map(split(readstring(io))) do x parse(x) end,L,M)')\n",
    "end\n",
    "println(\"Size $(M)x$(L), select $l.\")"
   ]
  },
  {
   "cell_type": "markdown",
   "metadata": {},
   "source": [
    "## Função objetivo"
   ]
  },
  {
   "cell_type": "code",
   "execution_count": 3,
   "metadata": {},
   "outputs": [
    {
     "data": {
      "text/plain": [
       "evaluate (generic function with 1 method)"
      ]
     },
     "execution_count": 3,
     "metadata": {},
     "output_type": "execute_result"
    }
   ],
   "source": [
    "function evaluate(S)\n",
    "    result=0.0\n",
    "    for m in 1:M\n",
    "        dm = typemax(Float64)\n",
    "        for s in S\n",
    "            dm = min(dm,d[m,s])\n",
    "        end\n",
    "        result += dm\n",
    "    end\n",
    "    result\n",
    "end"
   ]
  },
  {
   "cell_type": "markdown",
   "metadata": {},
   "source": [
    "## Gera 50K soluções aleatórias"
   ]
  },
  {
   "cell_type": "code",
   "execution_count": 4,
   "metadata": {
    "scrolled": true
   },
   "outputs": [
    {
     "name": "stdout",
     "output_type": "stream",
     "text": [
      "0: 3485.0\n",
      "1: 3495.0\n",
      "2: 3555.0\n",
      "5: 3561.0\n",
      "48: 3584.0\n",
      "66: 3685.0\n",
      "171: 3688.0\n",
      "224: 3735.0\n",
      "642: 3772.0\n",
      "3098: 3777.0\n",
      "5162: 3810.0\n",
      "11974: 3811.0\n",
      "40945: 3846.0\n",
      "114.836840 seconds (5.09 G allocations: 76.337 GiB, 2.61% gc time)\n"
     ]
    }
   ],
   "source": [
    "iteration=0\n",
    "best=0\n",
    "@time while iteration<50000\n",
    "    f=evaluate(shuffle(1:L)[1:l])\n",
    "    if (f>best)\n",
    "        best=f\n",
    "        println(\"$iteration: $best\")\n",
    "    end\n",
    "    iteration += 1\n",
    "end"
   ]
  }
 ],
 "metadata": {
  "kernelspec": {
   "display_name": "Julia 0.6.1",
   "language": "julia",
   "name": "julia-0.6"
  },
  "language_info": {
   "file_extension": ".jl",
   "mimetype": "application/julia",
   "name": "julia",
   "version": "0.6.1"
  }
 },
 "nbformat": 4,
 "nbformat_minor": 1
}
