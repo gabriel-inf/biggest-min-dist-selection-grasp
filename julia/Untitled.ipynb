{
 "cells": [
  {
   "cell_type": "code",
   "execution_count": 127,
   "metadata": {},
   "outputs": [],
   "source": [
    "using GLPKMathProgInterface\n",
    "using JuMP"
   ]
  },
  {
   "cell_type": "code",
   "execution_count": 128,
   "metadata": {},
   "outputs": [
    {
     "data": {
      "text/plain": [
       "\"../instances/mdmt39.112.A.ins\""
      ]
     },
     "execution_count": 128,
     "metadata": {},
     "output_type": "execute_result"
    }
   ],
   "source": [
    "FILE_NAME = \"../instances/mdmt39.112.A.ins\""
   ]
  },
  {
   "cell_type": "code",
   "execution_count": 129,
   "metadata": {},
   "outputs": [
    {
     "name": "stdout",
     "output_type": "stream",
     "text": [
      "Size 450x450, select 112.\n"
     ]
    }
   ],
   "source": [
    "(M,L,l,d)=open(FILE_NAME) do io\n",
    "    (M,L,l)=map(split(readline(io))) do x parse(Int,x) end\n",
    "    (M,L,l,reshape(map(split(readstring(io))) do x parse(x) end,L,M)')\n",
    "end\n",
    "println(\"Size $(M)x$(L), select $l.\")"
   ]
  },
  {
   "cell_type": "code",
   "execution_count": 88,
   "metadata": {},
   "outputs": [
    {
     "data": {
      "text/latex": [
       "$$ dist_{i}, \\in \\mathbb{Z}, \\quad\\forall i \\in \\{1,2,\\dots,449,450\\} $$"
      ],
      "text/plain": [
       "450-element Array{JuMP.Variable,1}:\n",
       " dist[1]  \n",
       " dist[2]  \n",
       " dist[3]  \n",
       " dist[4]  \n",
       " dist[5]  \n",
       " dist[6]  \n",
       " dist[7]  \n",
       " dist[8]  \n",
       " dist[9]  \n",
       " dist[10] \n",
       " dist[11] \n",
       " dist[12] \n",
       " dist[13] \n",
       " ⋮        \n",
       " dist[439]\n",
       " dist[440]\n",
       " dist[441]\n",
       " dist[442]\n",
       " dist[443]\n",
       " dist[444]\n",
       " dist[445]\n",
       " dist[446]\n",
       " dist[447]\n",
       " dist[448]\n",
       " dist[449]\n",
       " dist[450]"
      ]
     },
     "execution_count": 88,
     "metadata": {},
     "output_type": "execute_result"
    }
   ],
   "source": [
    "model = Model(solver=GLPKSolverMIP(tm_lim=60000))\n",
    "@variable(model, x[1:L], Bin)\n",
    "@variable(model, dist[1:M], Int)"
   ]
  },
  {
   "cell_type": "code",
   "execution_count": 97,
   "metadata": {},
   "outputs": [
    {
     "data": {
      "text/latex": [
       "$$ dist_{1} + dist_{2} + dist_{3} + dist_{4} + dist_{5} + dist_{6} + dist_{7} + dist_{8} + dist_{9} + dist_{10} + dist_{11} + dist_{12} + dist_{13} + dist_{14} + dist_{15} + dist_{16} + dist_{17} + dist_{18} + dist_{19} + dist_{20} + dist_{21} + dist_{22} + dist_{23} + dist_{24} + dist_{25} + dist_{26} + dist_{27} + dist_{28} + dist_{29} + dist_{30} + dist_{31} + dist_{32} + dist_{33} + dist_{34} + dist_{35} + dist_{36} + dist_{37} + dist_{38} + dist_{39} + dist_{40} + dist_{41} + dist_{42} + dist_{43} + dist_{44} + dist_{45} + dist_{46} + dist_{47} + dist_{48} + dist_{49} + dist_{50} + dist_{51} + dist_{52} + dist_{53} + dist_{54} + dist_{55} + dist_{56} + dist_{57} + dist_{58} + dist_{59} + dist_{60} + dist_{61} + dist_{62} + dist_{63} + dist_{64} + dist_{65} + dist_{66} + dist_{67} + dist_{68} + dist_{69} + dist_{70} + dist_{71} + dist_{72} + dist_{73} + dist_{74} + dist_{75} + dist_{76} + dist_{77} + dist_{78} + dist_{79} + dist_{80} + dist_{81} + dist_{82} + dist_{83} + dist_{84} + dist_{85} + dist_{86} + dist_{87} + dist_{88} + dist_{89} + dist_{90} + dist_{91} + dist_{92} + dist_{93} + dist_{94} + dist_{95} + dist_{96} + dist_{97} + dist_{98} + dist_{99} + dist_{100} + dist_{101} + dist_{102} + dist_{103} + dist_{104} + dist_{105} + dist_{106} + dist_{107} + dist_{108} + dist_{109} + dist_{110} + dist_{111} + dist_{112} + dist_{113} + dist_{114} + dist_{115} + dist_{116} + dist_{117} + dist_{118} + dist_{119} + dist_{120} + dist_{121} + dist_{122} + dist_{123} + dist_{124} + dist_{125} + dist_{126} + dist_{127} + dist_{128} + dist_{129} + dist_{130} + dist_{131} + dist_{132} + dist_{133} + dist_{134} + dist_{135} + dist_{136} + dist_{137} + dist_{138} + dist_{139} + dist_{140} + dist_{141} + dist_{142} + dist_{143} + dist_{144} + dist_{145} + dist_{146} + dist_{147} + dist_{148} + dist_{149} + dist_{150} + dist_{151} + dist_{152} + dist_{153} + dist_{154} + dist_{155} + dist_{156} + dist_{157} + dist_{158} + dist_{159} + dist_{160} + dist_{161} + dist_{162} + dist_{163} + dist_{164} + dist_{165} + dist_{166} + dist_{167} + dist_{168} + dist_{169} + dist_{170} + dist_{171} + dist_{172} + dist_{173} + dist_{174} + dist_{175} + dist_{176} + dist_{177} + dist_{178} + dist_{179} + dist_{180} + dist_{181} + dist_{182} + dist_{183} + dist_{184} + dist_{185} + dist_{186} + dist_{187} + dist_{188} + dist_{189} + dist_{190} + dist_{191} + dist_{192} + dist_{193} + dist_{194} + dist_{195} + dist_{196} + dist_{197} + dist_{198} + dist_{199} + dist_{200} + dist_{201} + dist_{202} + dist_{203} + dist_{204} + dist_{205} + dist_{206} + dist_{207} + dist_{208} + dist_{209} + dist_{210} + dist_{211} + dist_{212} + dist_{213} + dist_{214} + dist_{215} + dist_{216} + dist_{217} + dist_{218} + dist_{219} + dist_{220} + dist_{221} + dist_{222} + dist_{223} + dist_{224} + dist_{225} + dist_{226} + dist_{227} + dist_{228} + dist_{229} + dist_{230} + dist_{231} + dist_{232} + dist_{233} + dist_{234} + dist_{235} + dist_{236} + dist_{237} + dist_{238} + dist_{239} + dist_{240} + dist_{241} + dist_{242} + dist_{243} + dist_{244} + dist_{245} + dist_{246} + dist_{247} + dist_{248} + dist_{249} + dist_{250} + dist_{251} + dist_{252} + dist_{253} + dist_{254} + dist_{255} + dist_{256} + dist_{257} + dist_{258} + dist_{259} + dist_{260} + dist_{261} + dist_{262} + dist_{263} + dist_{264} + dist_{265} + dist_{266} + dist_{267} + dist_{268} + dist_{269} + dist_{270} + dist_{271} + dist_{272} + dist_{273} + dist_{274} + dist_{275} + dist_{276} + dist_{277} + dist_{278} + dist_{279} + dist_{280} + dist_{281} + dist_{282} + dist_{283} + dist_{284} + dist_{285} + dist_{286} + dist_{287} + dist_{288} + dist_{289} + dist_{290} + dist_{291} + dist_{292} + dist_{293} + dist_{294} + dist_{295} + dist_{296} + dist_{297} + dist_{298} + dist_{299} + dist_{300} + dist_{301} + dist_{302} + dist_{303} + dist_{304} + dist_{305} + dist_{306} + dist_{307} + dist_{308} + dist_{309} + dist_{310} + dist_{311} + dist_{312} + dist_{313} + dist_{314} + dist_{315} + dist_{316} + dist_{317} + dist_{318} + dist_{319} + dist_{320} + dist_{321} + dist_{322} + dist_{323} + dist_{324} + dist_{325} + dist_{326} + dist_{327} + dist_{328} + dist_{329} + dist_{330} + dist_{331} + dist_{332} + dist_{333} + dist_{334} + dist_{335} + dist_{336} + dist_{337} + dist_{338} + dist_{339} + dist_{340} + dist_{341} + dist_{342} + dist_{343} + dist_{344} + dist_{345} + dist_{346} + dist_{347} + dist_{348} + dist_{349} + dist_{350} + dist_{351} + dist_{352} + dist_{353} + dist_{354} + dist_{355} + dist_{356} + dist_{357} + dist_{358} + dist_{359} + dist_{360} + dist_{361} + dist_{362} + dist_{363} + dist_{364} + dist_{365} + dist_{366} + dist_{367} + dist_{368} + dist_{369} + dist_{370} + dist_{371} + dist_{372} + dist_{373} + dist_{374} + dist_{375} + dist_{376} + dist_{377} + dist_{378} + dist_{379} + dist_{380} + dist_{381} + dist_{382} + dist_{383} + dist_{384} + dist_{385} + dist_{386} + dist_{387} + dist_{388} + dist_{389} + dist_{390} + dist_{391} + dist_{392} + dist_{393} + dist_{394} + dist_{395} + dist_{396} + dist_{397} + dist_{398} + dist_{399} + dist_{400} + dist_{401} + dist_{402} + dist_{403} + dist_{404} + dist_{405} + dist_{406} + dist_{407} + dist_{408} + dist_{409} + dist_{410} + dist_{411} + dist_{412} + dist_{413} + dist_{414} + dist_{415} + dist_{416} + dist_{417} + dist_{418} + dist_{419} + dist_{420} + dist_{421} + dist_{422} + dist_{423} + dist_{424} + dist_{425} + dist_{426} + dist_{427} + dist_{428} + dist_{429} + dist_{430} + dist_{431} + dist_{432} + dist_{433} + dist_{434} + dist_{435} + dist_{436} + dist_{437} + dist_{438} + dist_{439} + dist_{440} + dist_{441} + dist_{442} + dist_{443} + dist_{444} + dist_{445} + dist_{446} + dist_{447} + dist_{448} + dist_{449} + dist_{450} $$"
      ],
      "text/plain": [
       "dist[1] + dist[2] + dist[3] + dist[4] + dist[5] + dist[6] + dist[7] + dist[8] + dist[9] + dist[10] + dist[11] + dist[12] + dist[13] + dist[14] + dist[15] + dist[16] + dist[17] + dist[18] + dist[19] + dist[20] + dist[21] + dist[22] + dist[23] + dist[24] + dist[25] + dist[26] + dist[27] + dist[28] + dist[29] + dist[30] + dist[31] + dist[32] + dist[33] + dist[34] + dist[35] + dist[36] + dist[37] + dist[38] + dist[39] + dist[40] + dist[41] + dist[42] + dist[43] + dist[44] + dist[45] + dist[46] + dist[47] + dist[48] + dist[49] + dist[50] + dist[51] + dist[52] + dist[53] + dist[54] + dist[55] + dist[56] + dist[57] + dist[58] + dist[59] + dist[60] + dist[61] + dist[62] + dist[63] + dist[64] + dist[65] + dist[66] + dist[67] + dist[68] + dist[69] + dist[70] + dist[71] + dist[72] + dist[73] + dist[74] + dist[75] + dist[76] + dist[77] + dist[78] + dist[79] + dist[80] + dist[81] + dist[82] + dist[83] + dist[84] + dist[85] + dist[86] + dist[87] + dist[88] + dist[89] + dist[90] + dist[91] + dist[92] + dist[93] + dist[94] + dist[95] + dist[96] + dist[97] + dist[98] + dist[99] + dist[100] + dist[101] + dist[102] + dist[103] + dist[104] + dist[105] + dist[106] + dist[107] + dist[108] + dist[109] + dist[110] + dist[111] + dist[112] + dist[113] + dist[114] + dist[115] + dist[116] + dist[117] + dist[118] + dist[119] + dist[120] + dist[121] + dist[122] + dist[123] + dist[124] + dist[125] + dist[126] + dist[127] + dist[128] + dist[129] + dist[130] + dist[131] + dist[132] + dist[133] + dist[134] + dist[135] + dist[136] + dist[137] + dist[138] + dist[139] + dist[140] + dist[141] + dist[142] + dist[143] + dist[144] + dist[145] + dist[146] + dist[147] + dist[148] + dist[149] + dist[150] + dist[151] + dist[152] + dist[153] + dist[154] + dist[155] + dist[156] + dist[157] + dist[158] + dist[159] + dist[160] + dist[161] + dist[162] + dist[163] + dist[164] + dist[165] + dist[166] + dist[167] + dist[168] + dist[169] + dist[170] + dist[171] + dist[172] + dist[173] + dist[174] + dist[175] + dist[176] + dist[177] + dist[178] + dist[179] + dist[180] + dist[181] + dist[182] + dist[183] + dist[184] + dist[185] + dist[186] + dist[187] + dist[188] + dist[189] + dist[190] + dist[191] + dist[192] + dist[193] + dist[194] + dist[195] + dist[196] + dist[197] + dist[198] + dist[199] + dist[200] + dist[201] + dist[202] + dist[203] + dist[204] + dist[205] + dist[206] + dist[207] + dist[208] + dist[209] + dist[210] + dist[211] + dist[212] + dist[213] + dist[214] + dist[215] + dist[216] + dist[217] + dist[218] + dist[219] + dist[220] + dist[221] + dist[222] + dist[223] + dist[224] + dist[225] + dist[226] + dist[227] + dist[228] + dist[229] + dist[230] + dist[231] + dist[232] + dist[233] + dist[234] + dist[235] + dist[236] + dist[237] + dist[238] + dist[239] + dist[240] + dist[241] + dist[242] + dist[243] + dist[244] + dist[245] + dist[246] + dist[247] + dist[248] + dist[249] + dist[250] + dist[251] + dist[252] + dist[253] + dist[254] + dist[255] + dist[256] + dist[257] + dist[258] + dist[259] + dist[260] + dist[261] + dist[262] + dist[263] + dist[264] + dist[265] + dist[266] + dist[267] + dist[268] + dist[269] + dist[270] + dist[271] + dist[272] + dist[273] + dist[274] + dist[275] + dist[276] + dist[277] + dist[278] + dist[279] + dist[280] + dist[281] + dist[282] + dist[283] + dist[284] + dist[285] + dist[286] + dist[287] + dist[288] + dist[289] + dist[290] + dist[291] + dist[292] + dist[293] + dist[294] + dist[295] + dist[296] + dist[297] + dist[298] + dist[299] + dist[300] + dist[301] + dist[302] + dist[303] + dist[304] + dist[305] + dist[306] + dist[307] + dist[308] + dist[309] + dist[310] + dist[311] + dist[312] + dist[313] + dist[314] + dist[315] + dist[316] + dist[317] + dist[318] + dist[319] + dist[320] + dist[321] + dist[322] + dist[323] + dist[324] + dist[325] + dist[326] + dist[327] + dist[328] + dist[329] + dist[330] + dist[331] + dist[332] + dist[333] + dist[334] + dist[335] + dist[336] + dist[337] + dist[338] + dist[339] + dist[340] + dist[341] + dist[342] + dist[343] + dist[344] + dist[345] + dist[346] + dist[347] + dist[348] + dist[349] + dist[350] + dist[351] + dist[352] + dist[353] + dist[354] + dist[355] + dist[356] + dist[357] + dist[358] + dist[359] + dist[360] + dist[361] + dist[362] + dist[363] + dist[364] + dist[365] + dist[366] + dist[367] + dist[368] + dist[369] + dist[370] + dist[371] + dist[372] + dist[373] + dist[374] + dist[375] + dist[376] + dist[377] + dist[378] + dist[379] + dist[380] + dist[381] + dist[382] + dist[383] + dist[384] + dist[385] + dist[386] + dist[387] + dist[388] + dist[389] + dist[390] + dist[391] + dist[392] + dist[393] + dist[394] + dist[395] + dist[396] + dist[397] + dist[398] + dist[399] + dist[400] + dist[401] + dist[402] + dist[403] + dist[404] + dist[405] + dist[406] + dist[407] + dist[408] + dist[409] + dist[410] + dist[411] + dist[412] + dist[413] + dist[414] + dist[415] + dist[416] + dist[417] + dist[418] + dist[419] + dist[420] + dist[421] + dist[422] + dist[423] + dist[424] + dist[425] + dist[426] + dist[427] + dist[428] + dist[429] + dist[430] + dist[431] + dist[432] + dist[433] + dist[434] + dist[435] + dist[436] + dist[437] + dist[438] + dist[439] + dist[440] + dist[441] + dist[442] + dist[443] + dist[444] + dist[445] + dist[446] + dist[447] + dist[448] + dist[449] + dist[450]"
      ]
     },
     "execution_count": 97,
     "metadata": {},
     "output_type": "execute_result"
    }
   ],
   "source": [
    "@objective(model, Max, sum(dist[i] for i=1:M))"
   ]
  },
  {
   "cell_type": "code",
   "execution_count": 99,
   "metadata": {},
   "outputs": [],
   "source": [
    "@constraints(model, begin\n",
    "        sum(x[i] for i = 1:L) <= l\n",
    "        [i = 1:M, j = 1:L], dist[i] <= x[j] * d[i,j] + (1-x[j]) * maximum(d)\n",
    "        [i = 1:M], dist[i] >= 0\n",
    "        end)"
   ]
  },
  {
   "cell_type": "markdown",
   "metadata": {},
   "source": [
    "model"
   ]
  },
  {
   "cell_type": "code",
   "execution_count": 102,
   "metadata": {
    "scrolled": true
   },
   "outputs": [
    {
     "name": "stdout",
     "output_type": "stream",
     "text": [
      "  0.841379 seconds (1.87 k allocations: 10.968 MiB)\n"
     ]
    },
    {
     "data": {
      "text/plain": [
       ":Optimal"
      ]
     },
     "execution_count": 102,
     "metadata": {},
     "output_type": "execute_result"
    }
   ],
   "source": [
    "@time solve(model)"
   ]
  },
  {
   "cell_type": "code",
   "execution_count": 103,
   "metadata": {},
   "outputs": [
    {
     "data": {
      "text/plain": [
       "50400.0"
      ]
     },
     "execution_count": 103,
     "metadata": {},
     "output_type": "execute_result"
    }
   ],
   "source": [
    "getobjectivevalue(model)"
   ]
  },
  {
   "cell_type": "code",
   "execution_count": 96,
   "metadata": {},
   "outputs": [
    {
     "data": {
      "text/plain": [
       "50400.0"
      ]
     },
     "execution_count": 96,
     "metadata": {},
     "output_type": "execute_result"
    }
   ],
   "source": [
    "getobjectivevalue(model)"
   ]
  },
  {
   "cell_type": "code",
   "execution_count": 111,
   "metadata": {},
   "outputs": [
    {
     "name": "stdout",
     "output_type": "stream",
     "text": [
      "search: sc\u001b[1mh\u001b[22m\u001b[1me\u001b[22mdu\u001b[1ml\u001b[22me @sc\u001b[1mh\u001b[22m\u001b[1me\u001b[22mdu\u001b[1ml\u001b[22me \u001b[1mh\u001b[22mank\u001b[1me\u001b[22m\u001b[1ml\u001b[22mh2 \u001b[1mh\u001b[22mank\u001b[1me\u001b[22m\u001b[1ml\u001b[22mh1 \u001b[1mh\u001b[22mank\u001b[1me\u001b[22m\u001b[1ml\u001b[22mh2x \u001b[1mh\u001b[22mank\u001b[1me\u001b[22m\u001b[1ml\u001b[22mh1x C\u001b[1mh\u001b[22mann\u001b[1me\u001b[22m\u001b[1ml\u001b[22m\n",
      "\n"
     ]
    },
    {
     "data": {
      "text/markdown": [
       "**Welcome to Julia 0.6.2.** The full manual is available at\n",
       "\n",
       "```\n",
       "https://docs.julialang.org/\n",
       "```\n",
       "\n",
       "as well many great tutorials and learning resources:\n",
       "\n",
       "```\n",
       "https://julialang.org/learning/\n",
       "```\n",
       "\n",
       "For help on a specific function or macro, type `?` followed by its name, e.g. `?fft`, or `?@time`, and press enter.\n"
      ],
      "text/plain": [
       "**Welcome to Julia 0.6.2.** The full manual is available at\n",
       "\n",
       "```\n",
       "https://docs.julialang.org/\n",
       "```\n",
       "\n",
       "as well many great tutorials and learning resources:\n",
       "\n",
       "```\n",
       "https://julialang.org/learning/\n",
       "```\n",
       "\n",
       "For help on a specific function or macro, type `?` followed by its name, e.g. `?fft`, or `?@time`, and press enter.\n"
      ]
     },
     "execution_count": 111,
     "metadata": {},
     "output_type": "execute_result"
    }
   ],
   "source": [
    "?help"
   ]
  },
  {
   "cell_type": "code",
   "execution_count": 112,
   "metadata": {},
   "outputs": [
    {
     "name": "stdout",
     "output_type": "stream",
     "text": [
      "search: \u001b[1ms\u001b[22m\u001b[1mh\u001b[22m\u001b[1mu\u001b[22m\u001b[1mf\u001b[22m\u001b[1mf\u001b[22m\u001b[1ml\u001b[22m\u001b[1me\u001b[22m \u001b[1ms\u001b[22m\u001b[1mh\u001b[22m\u001b[1mu\u001b[22m\u001b[1mf\u001b[22m\u001b[1mf\u001b[22m\u001b[1ml\u001b[22m\u001b[1me\u001b[22m!\n",
      "\n"
     ]
    },
    {
     "data": {
      "text/markdown": [
       "```\n",
       "shuffle([rng=GLOBAL_RNG,] v)\n",
       "```\n",
       "\n",
       "Return a randomly permuted copy of `v`. The optional `rng` argument specifies a random number generator (see [Random Numbers](@ref)). To permute `v` in-place, see [`shuffle!`](@ref).  To obtain randomly permuted indices, see [`randperm`](@ref).\n",
       "\n",
       "# Example\n",
       "\n",
       "```jldoctest\n",
       "julia> rng = MersenneTwister(1234);\n",
       "\n",
       "julia> shuffle(rng, collect(1:10))\n",
       "10-element Array{Int64,1}:\n",
       "  6\n",
       "  1\n",
       " 10\n",
       "  2\n",
       "  3\n",
       "  9\n",
       "  5\n",
       "  7\n",
       "  4\n",
       "  8\n",
       "```\n"
      ],
      "text/plain": [
       "```\n",
       "shuffle([rng=GLOBAL_RNG,] v)\n",
       "```\n",
       "\n",
       "Return a randomly permuted copy of `v`. The optional `rng` argument specifies a random number generator (see [Random Numbers](@ref)). To permute `v` in-place, see [`shuffle!`](@ref).  To obtain randomly permuted indices, see [`randperm`](@ref).\n",
       "\n",
       "# Example\n",
       "\n",
       "```jldoctest\n",
       "julia> rng = MersenneTwister(1234);\n",
       "\n",
       "julia> shuffle(rng, collect(1:10))\n",
       "10-element Array{Int64,1}:\n",
       "  6\n",
       "  1\n",
       " 10\n",
       "  2\n",
       "  3\n",
       "  9\n",
       "  5\n",
       "  7\n",
       "  4\n",
       "  8\n",
       "```\n"
      ]
     },
     "execution_count": 112,
     "metadata": {},
     "output_type": "execute_result"
    }
   ],
   "source": [
    "?shuffle"
   ]
  },
  {
   "cell_type": "code",
   "execution_count": 126,
   "metadata": {},
   "outputs": [
    {
     "data": {
      "text/plain": [
       "2-element Array{Int64,1}:\n",
       " 3\n",
       " 4"
      ]
     },
     "execution_count": 126,
     "metadata": {},
     "output_type": "execute_result"
    }
   ],
   "source": [
    "shuffle(1:4)[1:2]"
   ]
  },
  {
   "cell_type": "code",
   "execution_count": null,
   "metadata": {},
   "outputs": [],
   "source": []
  }
 ],
 "metadata": {
  "kernelspec": {
   "display_name": "Julia 0.6.2",
   "language": "julia",
   "name": "julia-0.6"
  },
  "language_info": {
   "file_extension": ".jl",
   "mimetype": "application/julia",
   "name": "julia",
   "version": "0.6.2"
  }
 },
 "nbformat": 4,
 "nbformat_minor": 2
}
